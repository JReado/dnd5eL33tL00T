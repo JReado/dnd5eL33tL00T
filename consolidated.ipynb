{
 "cells": [
  {
   "cell_type": "markdown",
   "metadata": {},
   "source": [
    "This is a currency tracker specific for d&d 5e and uses those coin values. With this, you can keep track of both your personal wallet, other players' wallets, as well as the accumulated currency taken as loot over the course of a session. From there, you can break the loot down into even shares and have the option to add them directly to wallets being tracked."
   ]
  },
  {
   "cell_type": "code",
   "execution_count": null,
   "metadata": {},
   "outputs": [],
   "source": []
  },
  {
   "cell_type": "code",
   "execution_count": null,
   "metadata": {},
   "outputs": [],
   "source": [
    "def methods():\n",
    "    print(\"\"\" \\n new >>> creates a new wallet \\n status(specific wallet or loot) >>> prints the current coin in that location \\n add(specific wallet or loot) >>> adds currency to the specified location \\n buy(specific wallet or loot) >>> subtracts the amount from the specified location or gives a message if you do not have enough. \\n players >>> lists all of the current wallets being tracked with the exception of the loot and 'mywallet' \\n cashout >>> breaks the accumulated loot of a session into shares and prompts if those shares should be added into tracked wallets. Loot is then reset to zero and all wallet amounts are printed \\n\"\"\")"
   ]
  },
  {
   "cell_type": "code",
   "execution_count": null,
   "metadata": {},
   "outputs": [],
   "source": [
    "def help():\n",
    "    print('There is no help. Woe to you. Ask your DM/god for guidance.')"
   ]
  },
  {
   "cell_type": "markdown",
   "metadata": {},
   "source": [
    "naming() is the function that prompts the user to enter a name for their new wallet as well as checks it against a keyword list of forbidden variable names"
   ]
  },
  {
   "cell_type": "code",
   "execution_count": 1,
   "metadata": {},
   "outputs": [],
   "source": [
    "def naming():\n",
    "    name = input(\"Name for wallet?\")\n",
    "    if name in forbidden:\n",
    "        print(\"Invalid name. Please use unique names and do not use 'wallet', 'player', or 'loot'. Enter new name\")\n",
    "        return naming()\n",
    "    else:\n",
    "        return name"
   ]
  },
  {
   "cell_type": "markdown",
   "metadata": {},
   "source": [
    "new() takes an integer as an input and walks the user through the new wallet setup. It appends the name to list - players as well as list - forbidden in order to keep track of active players as well as a list of variables that it is forbidden to use as a wallet name."
   ]
  },
  {
   "cell_type": "code",
   "execution_count": 2,
   "metadata": {},
   "outputs": [],
   "source": [
    "def new(numpcs = 1):\n",
    "    for num in range(numpcs):\n",
    "        name = naming()\n",
    "        players.append(name)\n",
    "        forbidden.append(name)\n",
    "        create(name)"
   ]
  },
  {
   "cell_type": "markdown",
   "metadata": {},
   "source": [
    "empty() returns an empty wallet as a value"
   ]
  },
  {
   "cell_type": "code",
   "execution_count": 3,
   "metadata": {},
   "outputs": [],
   "source": [
    "def empty():\n",
    "    return {'Copper': 0, 'Silver': 0, 'Electrum': 0, 'Gold': 0, 'Platinum': 0}"
   ]
  },
  {
   "cell_type": "markdown",
   "metadata": {},
   "source": [
    "hid_create() takes a name from new() and creates either an empty wallet or one with currency that the user inputs. It creates a global variable for the wallet name. This is meant to be a behind the scenes function"
   ]
  },
  {
   "cell_type": "code",
   "execution_count": 4,
   "metadata": {},
   "outputs": [],
   "source": [
    "def hid_create(name):\n",
    "    walletname = name\n",
    "    newwallet = empty()\n",
    "    if name == 'loot':\n",
    "        current[walletname] = empty()\n",
    "        globals()[walletname] = current[walletname]\n",
    "    else:\n",
    "        if name == 'mywallet':\n",
    "            startq = input('Would you like to import current coin for your personal wallet? Y/N')\n",
    "            startq = startq.upper()\n",
    "        else:\n",
    "            startq = input(\"Would you like to import current coin for {}'s wallet? Y/N\".format(name))\n",
    "            startq = startq.upper()\n",
    "        if startq == 'Y':\n",
    "            tempcp = int(input('How many copper pieces?'))\n",
    "            newwallet['Copper'] = tempcp\n",
    "            tempsp = int(input('How many silver pieces?'))\n",
    "            newwallet['Silver'] = tempsp\n",
    "            tempep = int(input('How many electrum pieces?'))\n",
    "            newwallet['Electrum'] = tempep\n",
    "            tempgp = int(input('How many gold pieces?'))\n",
    "            newwallet['Gold'] = tempgp\n",
    "            temppp = int(input('How many platinum pieces?'))\n",
    "            newwallet['Platinum'] = temppp\n",
    "            current[walletname] = newwallet\n",
    "            globals()[walletname] = current[walletname]\n",
    "        elif startq == 'N':\n",
    "            current[walletname] = empty()\n",
    "            globals()[walletname] = current[walletname]"
   ]
  },
  {
   "cell_type": "markdown",
   "metadata": {},
   "source": [
    "setup() is called at the program initialization. It creates a wallet named 'loot' and one named 'mywallet'"
   ]
  },
  {
   "cell_type": "code",
   "execution_count": 5,
   "metadata": {},
   "outputs": [],
   "source": [
    "def setup():\n",
    "    hid_create('loot')\n",
    "    hid_create('mywallet')\n",
    "    numpcs = int(input(\"How many other wallets would you like to track?\"))\n",
    "    new(numpcs)"
   ]
  },
  {
   "cell_type": "markdown",
   "metadata": {},
   "source": [
    "breakdown() takes a wallet and breaks it down to base value, returning copper value for either addition, subtraction, or sorting purposes."
   ]
  },
  {
   "cell_type": "code",
   "execution_count": null,
   "metadata": {},
   "outputs": [],
   "source": [
    "def breakdown(dict):\n",
    "    total = dict['Copper'] + (dict['Silver'] * 10) + (dict['Electrum'] * 50) + (dict['Gold'] * 100) + (dict['Platinum'] * 1000)\n",
    "    return total\n"
   ]
  },
  {
   "cell_type": "markdown",
   "metadata": {},
   "source": [
    "sort() is a function to call on any wallet that breaks it down the simplest form by taking all values and coverting them to copper pieces. From there, it is built back from the top down platinum > gold > electrum > silver > copper."
   ]
  },
  {
   "cell_type": "code",
   "execution_count": 6,
   "metadata": {},
   "outputs": [],
   "source": [
    "def sort(dict):\n",
    "    newdict = empty()\n",
    "    total = breakdown(dict)\n",
    "    # print(total)\n",
    "    cp = 0\n",
    "    sp = 0\n",
    "    ep = 0\n",
    "    gp = 0\n",
    "    pp = 0\n",
    "    pp = total // 1000\n",
    "    # print(\"pp is {} \".format(pp))\n",
    "    total = total % 1000\n",
    "    # print(total)\n",
    "    gp = total // 100\n",
    "    # print(\"gp is {} \".format(gp))\n",
    "    total = total % 100\n",
    "    # print(total)\n",
    "    ep = total // 50\n",
    "    # print(\"ep is {} \".format(ep))\n",
    "    total = total % 50\n",
    "    # print(total)\n",
    "    sp = total // 10\n",
    "    # print(\"sp is {} \".format(sp))\n",
    "    total = total % 10\n",
    "    # print(total)\n",
    "    cp = total\n",
    "    # print(\"cp is {} \".format(cp))\n",
    "    if gp < 100 and pp >= 10:\n",
    "        gp = gp + 100\n",
    "        pp = pp - 10\n",
    "    if sp < 50 and gp > 5:\n",
    "        gp = gp - 5\n",
    "        sp = sp + 50\n",
    "        # print(\"gp is {} and sp is {}\".format(gp, sp))\n",
    "    newdict['Copper'] = cp\n",
    "    newdict['Silver'] = sp\n",
    "    newdict['Electrum'] = ep\n",
    "    newdict['Gold'] = gp\n",
    "    newdict['Platinum'] = pp\n",
    "    return newdict"
   ]
  },
  {
   "cell_type": "markdown",
   "metadata": {},
   "source": [
    "transact() is a work in progress... It currently is a clunky way to add or subtract from a wallet or the pot, but it needs work and should more accurately look like sort"
   ]
  },
  {
   "cell_type": "code",
   "execution_count": 7,
   "metadata": {},
   "outputs": [],
   "source": [
    "def transact(dict):\n",
    "    newdict = empty()\n",
    "    tempcp = int(input('How many copper pieces?'))\n",
    "    newdict['Copper'] = dict['Copper'] + tempcp\n",
    "    tempsp = int(input('How many silver pieces?'))\n",
    "    newdict['Silver'] = dict['Silver'] + tempsp\n",
    "    tempep = int(input('How many electrum pieces?'))\n",
    "    newdict['Electrum'] = dict['Electrum'] + tempep\n",
    "    tempgp = int(input('How many gold pieces?'))\n",
    "    newdict['Gold'] = dict['Gold'] + tempgp\n",
    "    temppp = int(input('How many platinum pieces?'))\n",
    "    newdict['Platinum'] = dict['Platinum'] + temppp\n",
    "    newdict = sort(newdict)\n",
    "    cp = newdict['Copper']\n",
    "    sp = newdict['Silver']\n",
    "    ep = newdict['Electrum']\n",
    "    gp = newdict['Gold']\n",
    "    pp = newdict['Platinum']\n",
    "    print(\"\"\"New total set at: \\n Platinum: {} \\n Gold: {} \\n Electrum: {} \\n Silver: {} \\n Copper: {}\"\"\".format(pp, gp, ep, sp, cp))\n",
    "    return newdict"
   ]
  },
  {
   "cell_type": "markdown",
   "metadata": {},
   "source": [
    "status() takes a wallet as an argument and prints the current values nicely"
   ]
  },
  {
   "cell_type": "code",
   "execution_count": 8,
   "metadata": {},
   "outputs": [],
   "source": [
    "def status(play):\n",
    "    for vals in play:\n",
    "        cp = vals['Copper']\n",
    "        sp = vals['Silver']\n",
    "        ep = vals['Electrum']\n",
    "        gp = vals['Gold']\n",
    "        pp = vals['Platinum']\n",
    "        print(\"\"\" \\n Current value of {} is: \\n Platinum: {} \\n Gold: {} \\n Electrum: {} \\n Silver: {} \\n Copper: {}\"\"\".format(play, pp, gp, ep, sp, cp))"
   ]
  },
  {
   "cell_type": "markdown",
   "metadata": {},
   "source": [
    "kittycalc() walletaddq() and cashout() are three functions working together to try and cash out the loot, divide it among the correct amount of players, printing the share that each player gets. There is an additional component that will need to be reworked, allowing you to add shares to the wallets that are active. This will likely utilize a reworked transact(). I'd like to think of a way to choose what players get shares if not all (tracking 3 wallets for 6 players but one of the wallets your tracking was a player that forgoes a share, etc.)"
   ]
  },
  {
   "cell_type": "code",
   "execution_count": 9,
   "metadata": {},
   "outputs": [],
   "source": [
    "def kittycalc(numpc):\n",
    "    total = loot['Copper'] + (loot['Silver'] * 10) + (loot['Electrum'] * 50) + (loot['Gold'] * 100) + (loot['Platinum'] * 1000)\n",
    "    if total % numpc != 0:\n",
    "        kit = total % numpc\n",
    "        return kit\n",
    "    else:\n",
    "        return 0"
   ]
  },
  {
   "cell_type": "code",
   "execution_count": 10,
   "metadata": {},
   "outputs": [],
   "source": [
    "def walletaddq(wallet, share):\n",
    "    wallet = wallet\n",
    "    walletaddq = input(\"Would you like to add your share to your wallet? Y/N\")\n",
    "    walletaddq = walletaddq.upper()\n",
    "    if walletaddq == 'Y':\n",
    "        for cointypes in share:\n",
    "            wallet[cointypes] = wallet[cointypes] + share[cointypes]\n",
    "        wallet = sort(wallet)\n",
    "        status(wallet)\n",
    "    else:\n",
    "        status(wallet)"
   ]
  },
  {
   "cell_type": "code",
   "execution_count": 11,
   "metadata": {},
   "outputs": [],
   "source": [
    "def cashout():\n",
    "    share = empty()\n",
    "    numpc = int(input(\"How many players are splitting the pot?\"))\n",
    "    kitty = kittycalc(numpc)\n",
    "    status(pot)\n",
    "    total = pot['Copper'] + (pot['Silver'] * 10) + (pot['Electrum'] * 50) + (pot['Gold'] * 100) + (pot['Platinum'] * 1000)\n",
    "    total = total - kitty\n",
    "    total = total / numpc\n",
    "    cp = 0\n",
    "    sp = 0\n",
    "    ep = 0\n",
    "    gp = 0\n",
    "    pp = 0\n",
    "    pp = total // 1000\n",
    "    # print(\"pp is {} \".format(pp))\n",
    "    total = total % 1000\n",
    "    # print(total)\n",
    "    gp = total // 100\n",
    "    # print(\"gp is {} \".format(gp))\n",
    "    total = total % 100\n",
    "    # print(total)\n",
    "    ep = total // 50\n",
    "    # print(\"ep is {} \".format(ep))\n",
    "    total = total % 50\n",
    "    # print(total)\n",
    "    sp = total // 10\n",
    "    # print(\"sp is {} \".format(sp))\n",
    "    total = total % 10\n",
    "    # print(total)\n",
    "    cp = total\n",
    "    # print(\"cp is {} \".format(cp))\n",
    "    if gp < 1000 and pp >= 100:\n",
    "        gp = gp + 1000\n",
    "        pp = pp - 100\n",
    "        # print(\"gp is {} and pp is {} \".format(gp, pp))\n",
    "    if sp < 50 and gp > 5:\n",
    "        gp = gp - 5\n",
    "        sp = sp + 50\n",
    "        # print(\"gp is {} and sp is {}\".format(gp, sp))\n",
    "    share['Copper'] = cp\n",
    "    share['Silver'] = sp\n",
    "    share['Electrum'] = ep\n",
    "    share['Gold'] = gp\n",
    "    share['Platinum'] = pp\n",
    "    print(\"\"\"Each share is: \\n Platinum: {} \\n Gold: {} \\n Electrum: {} \\n Silver: {} \\n Copper: {}\"\"\".format(pp, gp, ep, sp, cp))\n",
    "    print(\" {} copper pieces are in the kitty\".format(kitty))\n",
    "    walletaddq(wallet, share)"
   ]
  },
  {
   "cell_type": "markdown",
   "metadata": {},
   "source": [
    "This is the code that runs on startup once the functions are defined. it creates empty lists for the current active wallets, players, forbidden names, and then runs setup() along with a setting a bunch of variables for future shorthand. The result then prints the current pot status, your wallet status as well as any other players that have been added."
   ]
  },
  {
   "cell_type": "code",
   "execution_count": 12,
   "metadata": {
    "tags": []
   },
   "outputs": [
    {
     "output_type": "stream",
     "name": "stdout",
     "text": "Invalid name. Please use unique names and do not use 'wallet', 'player', or 'pot'. Enter new name\n \n New session started. Current loot is set at: \n Platinum: 0 \n Gold: 0 \n Electrum: 0 \n Silver: 0 \n Copper: 0\n \n Current personal wallet: \n Platinum: 309 \n Gold: 5 \n Electrum: 7 \n Silver: 6 \n Copper: 8\n \n other wallets available: \n \n dane's wallet is stored in dane \n \n jon's wallet is stored in jon \n \n ryan's wallet is stored in ryan \n \nFor a list of methods, type method()\n"
    }
   ],
   "source": [
    "current = {}\n",
    "players = []\n",
    "forbidden = ['wallet', 'loot', 'player']\n",
    "setup()\n",
    "lootcp = loot['Copper']\n",
    "lootsp = loot['Silver']\n",
    "lootep = loot['Electrum']\n",
    "lootgp = loot['Gold']\n",
    "lootpp = loot['Platinum']\n",
    "print(\"\"\" \\n New session started. Current loot is set at: \\n Platinum: {} \\n Gold: {} \\n Electrum: {} \\n Silver: {} \\n Copper: {}\"\"\".format(lootpp, lootgp, lootep, lootsp, lootcp))\n",
    "\n",
    "mypp = mywallet['Platinum']\n",
    "mygp = mywallet['Gold']\n",
    "myep = mywallet['Electrum']\n",
    "mysp = mywallet['Silver']\n",
    "mycp = mywallet['Copper']\n",
    "\n",
    "print(\"\"\" \\n Current personal wallet: \\n Platinum: {} \\n Gold: {} \\n Electrum: {} \\n Silver: {} \\n Copper: {}\"\"\".format(mypp, mygp, myep, mysp, mycp))\n",
    "print(\"\"\" \\n other wallets available: \\n \"\"\")\n",
    "if len(players) > 0:\n",
    "    for name in players:\n",
    "        print(\"\"\" {}'s wallet is stored in {} \\n \"\"\".format(name, name))\n",
    "else:\n",
    "    print(\"\"\" \\n None \\n \"\"\")\n",
    "print(\"For a list of methods, type method()\")"
   ]
  },
  {
   "cell_type": "code",
   "execution_count": null,
   "metadata": {},
   "outputs": [],
   "source": []
  }
 ],
 "metadata": {
  "language_info": {
   "codemirror_mode": {
    "name": "ipython",
    "version": 3
   },
   "file_extension": ".py",
   "mimetype": "text/x-python",
   "name": "python",
   "nbconvert_exporter": "python",
   "pygments_lexer": "ipython3",
   "version": "3.8.3-final"
  },
  "orig_nbformat": 2,
  "kernelspec": {
   "name": "python38332bit57e8c7928fe24bb69a86b05b96d270fc",
   "display_name": "Python 3.8.3 32-bit"
  }
 },
 "nbformat": 4,
 "nbformat_minor": 2
}